{
 "cells": [
  {
   "cell_type": "code",
   "execution_count": 1,
   "metadata": {},
   "outputs": [
    {
     "name": "stdout",
     "output_type": "stream",
     "text": [
      "8-K (Current report) 2023-10-16 2023-10-16 Nuvve Holding Corp. (NVVE, NVVEW)\n",
      "F-3 (Registration statement) EX-5.1 2023-10-16 Chemomab Therapeutics Ltd. (CMMB)\n",
      "8-K (Current report) 2023-10-16 2023-10-10 ESPORTS ENTERTAINMENT GROUP, INC. (GMBL, GMBLP, GMBLW, GMBLZ)\n",
      "8-K (Current report) EX-99.2 2023-10-13 2023-10-13 Repare Therapeutics Inc. (RPTX)\n",
      "8-K (Current report) 2023-10-13 2023-10-10 VACCINEX, INC. (VCNX)\n",
      "8-K (Current report) EX-99.1 2023-10-13 2023-10-12 Main Street Capital CORP (MAIN)\n",
      "8-K (Current report) 2023-10-13 2023-10-13 Clean Energy Technologies, Inc. (CETY)\n",
      "8-K (Current report) EX-99.1 2023-10-16 2023-10-16 GUARANTY BANCSHARES INC /TX/ (GNTY)\n",
      "424B5 (Prospectus) 2023-10-13 Hall of Fame Resort & Entertainment Co (HOFV, HOFVW)\n",
      "8-K (Current report) EX-99.2 2023-10-16 2023-10-16 FB Financial Corp (FBK)\n",
      "8-K (Current report) EX-99.1 2023-10-16 2023-10-16 CROSSFIRST BANKSHARES, INC. (CFB)\n",
      "8-K (Current report) EX-99.2 2023-10-13 2023-10-13 PNC FINANCIAL SERVICES GROUP, INC. (PNC)\n",
      "8-K (Current report) EX-10.8 2023-10-13 2023-10-12 Avalon GloboCare Corp. (ALBT)\n",
      "8-K (Current report) EX-10.3 2023-10-13 2023-10-12 Avalon GloboCare Corp. (ALBT)\n",
      "8-K (Current report) EX-10.1 2023-10-16 2023-10-12 BioSig Technologies, Inc. (BSGM)\n",
      "8-K (Current report) EX-10.1 2023-10-13 2023-10-12 Avalon GloboCare Corp. (ALBT)\n",
      "8-K (Current report) EX-10.6 2023-10-13 2023-10-12 Avalon GloboCare Corp. (ALBT)\n",
      "S-3ASR (Registration statement) EX-25.2 2023-10-13 OneMain Holdings, Inc. (OMF)\n",
      "ONEMAIN FINANCE CORP\n",
      "8-K (Current report) EX-99.2 2023-10-13 2023-10-13 JPMORGAN CHASE & CO (AMJ, JPM, JPM-PC, JPM-PD, JPM-PJ, JPM-PK, JPM-PL, JPM-PM)\n"
     ]
    }
   ],
   "source": [
    "from selenium import webdriver\n",
    "from selenium.webdriver.common.by import By\n",
    "from selenium.webdriver.common.keys import Keys\n",
    "from time import sleep\n",
    "from selenium.common import exceptions\n",
    "\n",
    "browser = webdriver.Firefox()\n",
    "browser.implicitly_wait(3)\n",
    "\n",
    "\n",
    "url = \"https://www.sec.gov/edgar/search/?r=el#/q=%2522ATM%2522%2520OR%2520%2522Open%2520Market%2520Sales%2520AgreementSM%2522%2520OR%2520%2522at-the-market%2522%2520OR%2520%2522Open%2520Market%2520Sale%2520Agreement%2522%2520OR%2520%2522Capital%2520On%2520Demand%2520Sales%2520Agreement%2522&dateRange=custom&category=custom&startdt=2023-10-13&enddt=2023-10-16&forms=424B5%252C8-K%252CF-3%252CF-3ASR%252CS-3%252CS-3ASR\"\n",
    "browser.get(url)\n",
    "\n",
    "css_selector_tbody = \"#hits\"\n",
    "hits = browser.find_element(By.CSS_SELECTOR, css_selector_tbody)\n",
    "table = hits.find_element(By.TAG_NAME, 'table')\n",
    "tbody = table.find_element(By.TAG_NAME, 'tbody')\n",
    "trs = tbody.find_elements(By.TAG_NAME, 'tr')\n",
    "\n",
    "print(\"show appart visites lmissa\")"
   ]
  },
  {
   "cell_type": "code",
   "execution_count": 13,
   "metadata": {},
   "outputs": [],
   "source": [
    "filings = [\n",
    "    \n",
    "]\n",
    "\n",
    "for tr in trs :\n",
    "    filetype = tr.find_element(By.CLASS_NAME, 'filetype')\n",
    "    preview_file = filetype.find_element(By.CLASS_NAME, 'preview-file')\n",
    "    filename = preview_file.text\n",
    "\n",
    "    filed_date = tr.find_element(By.CLASS_NAME, 'filed').text\n",
    "\n",
    "    # tr.find_element(By.CLASS_NAME, 'enddate')\n",
    "    \n",
    "    entity_name = tr.find_element(By.CLASS_NAME, 'entity-name').text\n",
    "    \n",
    "    # tr.find_element(By.CLASS_NAME, 'cik')\n",
    "    # tr.find_element(By.CLASS_NAME, 'biz-location')\n",
    "    # tr.find_element(By.CLASS_NAME, 'incorporated')\n",
    "    # tr.find_elements(By.CLASS_NAME, 'file-num')\n",
    "\n",
    "    filings.append(\n",
    "        {\n",
    "            \"filename\": filename,\n",
    "            \"entity_name\": entity_name,\n",
    "            \"date\": filed_date\n",
    "        }\n",
    "    )\n",
    "\n",
    "    \n"
   ]
  },
  {
   "cell_type": "code",
   "execution_count": 15,
   "metadata": {},
   "outputs": [],
   "source": [
    "import json\n",
    "import tinydb\n",
    "\n",
    "db = tinydb.TinyDB(\"memory.json\")\n",
    "for filing in filings :\n",
    "    db.insert(\n",
    "        filing\n",
    "    )"
   ]
  },
  {
   "cell_type": "code",
   "execution_count": 35,
   "metadata": {},
   "outputs": [
    {
     "data": {
      "text/plain": [
       "[{'filename': '8-K (Current report)',\n",
       "  'entity_name': 'Nuvve Holding Corp. (NVVE, NVVEW)',\n",
       "  'date': '2023-10-16'}]"
      ]
     },
     "execution_count": 35,
     "metadata": {},
     "output_type": "execute_result"
    }
   ],
   "source": [
    "from tinydb import Query\n",
    "filings = Query()\n",
    "\n",
    "result = db.search(\n",
    "    (filings.filename == \"8-K (Current report)\") & (filings.entity_name == \"Nuvve Holding Corp. (NVVE, NVVEW)\")\n",
    ")\n",
    "\n",
    "result"
   ]
  },
  {
   "cell_type": "code",
   "execution_count": null,
   "metadata": {},
   "outputs": [],
   "source": []
  }
 ],
 "metadata": {
  "kernelspec": {
   "display_name": "env",
   "language": "python",
   "name": "python3"
  },
  "language_info": {
   "codemirror_mode": {
    "name": "ipython",
    "version": 3
   },
   "file_extension": ".py",
   "mimetype": "text/x-python",
   "name": "python",
   "nbconvert_exporter": "python",
   "pygments_lexer": "ipython3",
   "version": "3.10.12"
  }
 },
 "nbformat": 4,
 "nbformat_minor": 2
}
